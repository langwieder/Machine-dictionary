{
 "cells": [
  {
   "cell_type": "code",
   "execution_count": null,
   "metadata": {
    "collapsed": true
   },
   "outputs": [],
   "source": [
    "import re\n",
    "\n",
    "with open('2.txt', 'r', encoding = 'cp1251') as f: #указать название и кодировку нужного файла. Это тестовый.\n",
    "    test = f.readlines()\n",
    "cleaned = open('cleaned.txt', 'w', encoding = 'utf-8')"
   ]
  },
  {
   "cell_type": "markdown",
   "metadata": {},
   "source": [
    "# # все используемые теги TEI:"
   ]
  },
  {
   "cell_type": "code",
   "execution_count": null,
   "metadata": {
    "collapsed": true
   },
   "outputs": [],
   "source": [
    "tei_tags = ['superEntry', 'entry', 'form', 'orth', 'stress', 'gramGrp', 'sense', 'def', 'cit', 'pos',\n",
    "            'gen', 'number', 'case', 'iType', 'per', 'tns', 'mood', 'subc', 'colloc', 'usg', 'quote', 'bibl',\n",
    "            'author', 'xr', 'etym', 're', 'note', 'lang', 'date', 'mentioned', 'gloss', 'pron', 'lbl', 'q',\n",
    "            'gram', 'ref', 'quote']"
   ]
  },
  {
   "cell_type": "markdown",
   "metadata": {},
   "source": [
    "сюда попадут теги, не принадлежащие TEI:"
   ]
  },
  {
   "cell_type": "code",
   "execution_count": null,
   "metadata": {
    "collapsed": true
   },
   "outputs": [],
   "source": [
    "deleted = []"
   ]
  },
  {
   "cell_type": "code",
   "execution_count": null,
   "metadata": {
    "collapsed": true
   },
   "outputs": [],
   "source": [
    "line_n = 0 #счётчик для лога"
   ]
  },
  {
   "cell_type": "code",
   "execution_count": null,
   "metadata": {
    "collapsed": true
   },
   "outputs": [],
   "source": [
    "for line in test:\n",
    "    line_n+=1\n",
    "    if line_n%5 == 0:\n",
    "        print('Cleaning line: ', line_n) #лог\n",
    "    #достаём имена всех тегов в строке\n",
    "    tags = re.findall('</?([A-Za-z]+) ?.*?>', line)\n",
    "    for tag in tags: #для каждого из них проверяем, есть ли он в словаре TEI\n",
    "        if tag not in tei_tags: #если нет\n",
    "            full_tags = re.findall('</?'+tag+' ?.*?>', line) #достаём теги полностью с атрибутами\n",
    "            for full_tag in full_tags:\n",
    "                line = re.sub(full_tag, '', line) #и убираем их из строки\n",
    "            deleted.append(tag) #фиксируем удалённые теги\n",
    "    cleaned.write(line) #записываем чистую строку в файл"
   ]
  },
  {
   "cell_type": "code",
   "execution_count": null,
   "metadata": {
    "collapsed": true
   },
   "outputs": [],
   "source": [
    "print('tags deleted: ', deleted) #выводим список удалённых тегов\n",
    "cleaned.close()"
   ]
  }
 ],
 "metadata": {
  "kernelspec": {
   "display_name": "Python 3",
   "language": "python",
   "name": "python3"
  },
  "language_info": {
   "codemirror_mode": {
    "name": "ipython",
    "version": 3
   },
   "file_extension": ".py",
   "mimetype": "text/x-python",
   "name": "python",
   "nbconvert_exporter": "python",
   "pygments_lexer": "ipython3",
   "version": "3.4.3"
  }
 },
 "nbformat": 4,
 "nbformat_minor": 0
}
